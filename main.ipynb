{
 "cells": [
  {
   "cell_type": "markdown",
   "metadata": {},
   "source": [
    "**Using the Kaggle API to downlaod the necessary dataset**"
   ]
  },
  {
   "cell_type": "code",
   "execution_count": 19,
   "metadata": {},
   "outputs": [
    {
     "name": "stdout",
     "output_type": "stream",
     "text": [
      "Dataset URL: https://www.kaggle.com/datasets/blastchar/telco-customer-churn\n"
     ]
    }
   ],
   "source": [
    "import kaggle\n",
    "\n",
    "kaggle.api.authenticate()\n",
    "\n",
    "kaggle.api.dataset_download_files(\"blastchar/telco-customer-churn\", path=\".\", unzip=True)\n",
    "\n",
    "# Extracts a JSON file of the metadata for a given dataset\n",
    "#kaggle.api.dataset_metadata(\"blastchar/telco-customer-churn\", path=\".\")\n",
    "\n",
    "# List all the data files in a given dataset\n",
    "#print(kaggle.api.dataset_list_files(\"blastchar/telco-customer-churn\").files)\n"
   ]
  },
  {
   "cell_type": "code",
   "execution_count": 13,
   "metadata": {},
   "outputs": [
    {
     "name": "stdout",
     "output_type": "stream",
     "text": [
      "[blastchar/telco-customer-churn, barun2104/telecom-churn, radheshyamkollipara/bank-customer-churn, muhammadshahidazeem/customer-churn-dataset, gauravtopre/bank-customer-churn-dataset, shubhammeshram579/bank-customer-churn-prediction, shantanudhakadd/bank-customer-churn-prediction, anandshaw2001/customer-churn-dataset, rashadrmammadov/customer-churn-dataset, saurabhbadole/bank-customer-churn-prediction-dataset, mathchi/churn-for-bank-customers, abdullah0a/telecom-customer-churn-insights-for-analysis, santoshd3/bank-customers, divu2001/customer-churn-rate, abdallahwagih/telco-customer-churn, alfathterry/telco-customer-churn-11-1-3, mehmetsabrikunt/internet-service-churn, shilongzhuang/telecom-customer-churn-by-maven-analytics, tejashvi14/tour-travels-customer-churn-prediction, yeanzc/telco-customer-churn-ibm-dataset]\n"
     ]
    }
   ],
   "source": [
    "# Provides a list of dataset that contain the search word(s)\n",
    "datasets = kaggle.api.dataset_list(search=\"customer churn\")\n",
    "print(datasets)"
   ]
  }
 ],
 "metadata": {
  "kernelspec": {
   "display_name": "Python 3",
   "language": "python",
   "name": "python3"
  },
  "language_info": {
   "codemirror_mode": {
    "name": "ipython",
    "version": 3
   },
   "file_extension": ".py",
   "mimetype": "text/x-python",
   "name": "python",
   "nbconvert_exporter": "python",
   "pygments_lexer": "ipython3",
   "version": "3.9.6"
  }
 },
 "nbformat": 4,
 "nbformat_minor": 2
}
